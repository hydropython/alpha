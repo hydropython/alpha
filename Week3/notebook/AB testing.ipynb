{
 "cells": [
  {
   "cell_type": "markdown",
   "metadata": {},
   "source": [
    "A/B hypothesis Testing\n",
    "---\n",
    "Based on the p-values from these tests:\n",
    "\n",
    "If the p-value is less than 0.05, reject the null hypothesis (indicating a significant difference).\n",
    "If the p-value is 0.05 or greater, fail to reject the null hypothesis (indicating no significant difference)."
   ]
  },
  {
   "cell_type": "code",
   "execution_count": 1,
   "metadata": {},
   "outputs": [],
   "source": [
    "import sys\n",
    "import os\n",
    "import pandas as pd\n",
    "sys.path.append(os.path.abspath('../scripts'))\n",
    "from AB_Hypothesis_Testing import InsuranceDataAnalyzer"
   ]
  },
  {
   "cell_type": "code",
   "execution_count": 2,
   "metadata": {},
   "outputs": [
    {
     "name": "stderr",
     "output_type": "stream",
     "text": [
      "c:\\Users\\Addisu\\Desktop\\images\\Week3\\scripts\\AB_Hypothesis_Testing.py:12: DtypeWarning: Columns (32) have mixed types. Specify dtype option on import or set low_memory=False.\n",
      "  self.data = pd.read_csv(file_path)\n"
     ]
    }
   ],
   "source": [
    "# Step 3: Create an instance of the class\n",
    "file_path = '../Data/updated_data.csv'  # Replace with the actual file path\n",
    "analyzer = InsuranceDataAnalyzer(file_path)"
   ]
  },
  {
   "cell_type": "markdown",
   "metadata": {},
   "source": [
    "1.There are no risk differences across provinces.\n",
    "---\n",
    "P-Value: The p-value helps us decide whether the observed relationship is statistically significant.\n",
    "\n",
    "If the p-value is less than 0.05, we reject the null hypothesis, meaning there is a statistically significant relationship between the variables (e.g., Province and TotalClaims).\n",
    "If the p-value is greater than 0.05, we fail to reject the null hypothesis, meaning there is no statistically significant relationship between the variables.\n",
    "\n",
    "The below result show that , the p-value of 0.042 is less than 0.05, so we conclude that there is a statistically significant difference in claims between provinces.\n"
   ]
  },
  {
   "cell_type": "code",
   "execution_count": 3,
   "metadata": {},
   "outputs": [
    {
     "name": "stdout",
     "output_type": "stream",
     "text": [
      "Testing for risk differences across provinces:\n",
      "Chi2 Stat (Provinces): 10722.68, P-Value: 1.0000, Cramér's V: 0.0366\n",
      "The result is not statistically significant (fail to reject H0).\n",
      "\n",
      "\n"
     ]
    }
   ],
   "source": [
    "\n",
    "# Test for risk differences across provinces\n",
    "print(\"Testing for risk differences across provinces:\")\n",
    "analyzer.test_no_risk_differences_across_provinces()\n",
    "print(\"\\n\")"
   ]
  },
  {
   "cell_type": "markdown",
   "metadata": {},
   "source": [
    "2.\tThere are no risk differences between zip codes \n",
    "---\n",
    "P-Value: The p-value helps us decide whether the observed relationship is statistically significant.\n",
    "\n",
    "If the p-value is less than 0.05, we reject the null hypothesis, meaning there is a statistically significant relationship between the variables (e.g., Province and TotalClaims).\n",
    "If the p-value is greater than 0.05, we fail to reject the null hypothesis, meaning there is no statistically significant relationship between the variables.\n",
    "\n",
    "The below result show that , the p-value of 0.042 is less than 0.05, so we conclude that there is a statistically significant difference in claims between provinces.\n"
   ]
  },
  {
   "cell_type": "code",
   "execution_count": 4,
   "metadata": {},
   "outputs": [
    {
     "name": "stdout",
     "output_type": "stream",
     "text": [
      "Testing for risk differences between zip codes:\n",
      "Chi2 Stat (Postal Codes): 1214174.41, P-Value: 1.0000, Cramér's V: 0.0370\n",
      "The result is not statistically significant (fail to reject H0).\n",
      "\n",
      "\n"
     ]
    }
   ],
   "source": [
    "# Test for risk differences between zip codes\n",
    "print(\"Testing for risk differences between zip codes:\")\n",
    "analyzer.test_no_risk_differences_between_zip_codes()\n",
    "print(\"\\n\")"
   ]
  },
  {
   "cell_type": "markdown",
   "metadata": {},
   "source": [
    "3.\tThere are no significant margin (profit) difference between zip codes \n",
    "---\n",
    "P-Value: The p-value helps us decide whether the observed relationship is statistically significant.\n",
    "\n",
    "If the p-value is less than 0.05, we reject the null hypothesis, meaning there is a statistically significant relationship between the variables (e.g., Province and TotalClaims).\n",
    "If the p-value is greater than 0.05, we fail to reject the null hypothesis, meaning there is no statistically significant relationship between the variables.\n",
    "\n",
    "The below result show that , the p-value of 0.042 is less than 0.05, so we conclude that there is a statistically significant difference in claims between provinces.\n"
   ]
  },
  {
   "cell_type": "code",
   "execution_count": 5,
   "metadata": {},
   "outputs": [
    {
     "name": "stdout",
     "output_type": "stream",
     "text": [
      "Testing for margin differences between zip codes:\n",
      "Chi2 Stat (Premium by Postal Codes): 224052676.14, P-Value: 0.0000, Cramér's V: 0.5026\n",
      "The result is statistically significant (reject H0).\n",
      "\n",
      "\n"
     ]
    }
   ],
   "source": [
    "# Test for margin differences between zip codes\n",
    "print(\"Testing for margin differences between zip codes:\")\n",
    "analyzer.test_no_margin_differences_between_zip_codes()\n",
    "print(\"\\n\")\n"
   ]
  },
  {
   "cell_type": "markdown",
   "metadata": {},
   "source": [
    "4.There are not significant risk difference between Women and Men\n",
    "---\n",
    "P-Value: The p-value helps us decide whether the observed relationship is statistically significant.\n",
    "\n",
    "If the p-value is less than 0.05, we reject the null hypothesis, meaning there is a statistically significant relationship between the variables (e.g., Province and TotalClaims).\n",
    "If the p-value is greater than 0.05, we fail to reject the null hypothesis, meaning there is no statistically significant relationship between the variables.\n",
    "\n",
    "The below result show that , the p-value of 0.042 is less than 0.05, so we conclude that there is a statistically significant difference in claims between provinces.\n"
   ]
  },
  {
   "cell_type": "code",
   "execution_count": 6,
   "metadata": {},
   "outputs": [
    {
     "name": "stdout",
     "output_type": "stream",
     "text": [
      "Testing for risk differences between women and men:\n",
      "Chi2 Stat (Gender): 3912.82, P-Value: 1.0000, Cramér's V: 0.0361\n",
      "The result is not statistically significant (fail to reject H0).\n",
      "Two-Proportion Z-Test between Male and Female: Z-Score = nan, P-Value = nan\n",
      "The result is not statistically significant (fail to reject H0).\n"
     ]
    },
    {
     "name": "stderr",
     "output_type": "stream",
     "text": [
      "c:\\Users\\Addisu\\Desktop\\images\\Week3\\scripts\\AB_Hypothesis_Testing.py:93: RuntimeWarning: invalid value encountered in sqrt\n",
      "  z_score = (p1 - p2) / np.sqrt(p_pool * (1 - p_pool) * (1/n1 + 1/n2))\n"
     ]
    }
   ],
   "source": [
    "# Test for risk differences between women and men\n",
    "print(\"Testing for risk differences between women and men:\")\n",
    "analyzer.test_no_risk_differences_between_women_and_men()"
   ]
  }
 ],
 "metadata": {
  "kernelspec": {
   "display_name": ".venv",
   "language": "python",
   "name": "python3"
  },
  "language_info": {
   "codemirror_mode": {
    "name": "ipython",
    "version": 3
   },
   "file_extension": ".py",
   "mimetype": "text/x-python",
   "name": "python",
   "nbconvert_exporter": "python",
   "pygments_lexer": "ipython3",
   "version": "3.12.3"
  }
 },
 "nbformat": 4,
 "nbformat_minor": 2
}
