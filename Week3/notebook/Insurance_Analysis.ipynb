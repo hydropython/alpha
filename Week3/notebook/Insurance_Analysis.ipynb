{
 "cells": [
  {
   "cell_type": "markdown",
   "metadata": {},
   "source": [
    "Data loading\n",
    "---\n",
    "Chenging the data from text to dataframe"
   ]
  },
  {
   "cell_type": "code",
   "execution_count": 3,
   "metadata": {},
   "outputs": [],
   "source": [
    "import sys\n",
    "import os\n",
    "import pandas as pd\n",
    "sys.path.append(os.path.abspath('../scripts'))\n",
    "from load_data import InsuranceDataProcessor\n"
   ]
  },
  {
   "cell_type": "code",
   "execution_count": 2,
   "metadata": {},
   "outputs": [
    {
     "name": "stdout",
     "output_type": "stream",
     "text": [
      "Data saved to d:\\10 ACADAMY KIFIYA\\Week-3\\Insurance\\Week3\\data\\insurance_text_data.csv\n"
     ]
    },
    {
     "name": "stderr",
     "output_type": "stream",
     "text": [
      "C:\\Users\\Addisu\\AppData\\Local\\Temp\\ipykernel_54516\\950699134.py:5: DtypeWarning: Columns (32,37) have mixed types. Specify dtype option on import or set low_memory=False.\n",
      "  df = pd.read_csv('../Data/insurance_text_data.csv')\n"
     ]
    },
    {
     "data": {
      "text/html": [
       "<div>\n",
       "<style scoped>\n",
       "    .dataframe tbody tr th:only-of-type {\n",
       "        vertical-align: middle;\n",
       "    }\n",
       "\n",
       "    .dataframe tbody tr th {\n",
       "        vertical-align: top;\n",
       "    }\n",
       "\n",
       "    .dataframe thead th {\n",
       "        text-align: right;\n",
       "    }\n",
       "</style>\n",
       "<table border=\"1\" class=\"dataframe\">\n",
       "  <thead>\n",
       "    <tr style=\"text-align: right;\">\n",
       "      <th></th>\n",
       "      <th>UnderwrittenCoverID</th>\n",
       "      <th>PolicyID</th>\n",
       "      <th>TransactionMonth</th>\n",
       "      <th>IsVATRegistered</th>\n",
       "      <th>Citizenship</th>\n",
       "      <th>LegalType</th>\n",
       "      <th>Title</th>\n",
       "      <th>Language</th>\n",
       "      <th>Bank</th>\n",
       "      <th>AccountType</th>\n",
       "      <th>...</th>\n",
       "      <th>ExcessSelected</th>\n",
       "      <th>CoverCategory</th>\n",
       "      <th>CoverType</th>\n",
       "      <th>CoverGroup</th>\n",
       "      <th>Section</th>\n",
       "      <th>Product</th>\n",
       "      <th>StatutoryClass</th>\n",
       "      <th>StatutoryRiskType</th>\n",
       "      <th>TotalPremium</th>\n",
       "      <th>TotalClaims</th>\n",
       "    </tr>\n",
       "  </thead>\n",
       "  <tbody>\n",
       "    <tr>\n",
       "      <th>0</th>\n",
       "      <td>145249</td>\n",
       "      <td>12827</td>\n",
       "      <td>2015-03-01 00:00:00</td>\n",
       "      <td>True</td>\n",
       "      <td></td>\n",
       "      <td>Close Corporation</td>\n",
       "      <td>Mr</td>\n",
       "      <td>English</td>\n",
       "      <td>First National Bank</td>\n",
       "      <td>Current account</td>\n",
       "      <td>...</td>\n",
       "      <td>Mobility - Windscreen</td>\n",
       "      <td>Windscreen</td>\n",
       "      <td>Windscreen</td>\n",
       "      <td>Comprehensive - Taxi</td>\n",
       "      <td>Motor Comprehensive</td>\n",
       "      <td>Mobility Metered Taxis: Monthly</td>\n",
       "      <td>Commercial</td>\n",
       "      <td>IFRS Constant</td>\n",
       "      <td>21.929825</td>\n",
       "      <td>0.0</td>\n",
       "    </tr>\n",
       "    <tr>\n",
       "      <th>1</th>\n",
       "      <td>145249</td>\n",
       "      <td>12827</td>\n",
       "      <td>2015-05-01 00:00:00</td>\n",
       "      <td>True</td>\n",
       "      <td></td>\n",
       "      <td>Close Corporation</td>\n",
       "      <td>Mr</td>\n",
       "      <td>English</td>\n",
       "      <td>First National Bank</td>\n",
       "      <td>Current account</td>\n",
       "      <td>...</td>\n",
       "      <td>Mobility - Windscreen</td>\n",
       "      <td>Windscreen</td>\n",
       "      <td>Windscreen</td>\n",
       "      <td>Comprehensive - Taxi</td>\n",
       "      <td>Motor Comprehensive</td>\n",
       "      <td>Mobility Metered Taxis: Monthly</td>\n",
       "      <td>Commercial</td>\n",
       "      <td>IFRS Constant</td>\n",
       "      <td>21.929825</td>\n",
       "      <td>0.0</td>\n",
       "    </tr>\n",
       "    <tr>\n",
       "      <th>2</th>\n",
       "      <td>145249</td>\n",
       "      <td>12827</td>\n",
       "      <td>2015-07-01 00:00:00</td>\n",
       "      <td>True</td>\n",
       "      <td></td>\n",
       "      <td>Close Corporation</td>\n",
       "      <td>Mr</td>\n",
       "      <td>English</td>\n",
       "      <td>First National Bank</td>\n",
       "      <td>Current account</td>\n",
       "      <td>...</td>\n",
       "      <td>Mobility - Windscreen</td>\n",
       "      <td>Windscreen</td>\n",
       "      <td>Windscreen</td>\n",
       "      <td>Comprehensive - Taxi</td>\n",
       "      <td>Motor Comprehensive</td>\n",
       "      <td>Mobility Metered Taxis: Monthly</td>\n",
       "      <td>Commercial</td>\n",
       "      <td>IFRS Constant</td>\n",
       "      <td>0.000000</td>\n",
       "      <td>0.0</td>\n",
       "    </tr>\n",
       "    <tr>\n",
       "      <th>3</th>\n",
       "      <td>145255</td>\n",
       "      <td>12827</td>\n",
       "      <td>2015-05-01 00:00:00</td>\n",
       "      <td>True</td>\n",
       "      <td></td>\n",
       "      <td>Close Corporation</td>\n",
       "      <td>Mr</td>\n",
       "      <td>English</td>\n",
       "      <td>First National Bank</td>\n",
       "      <td>Current account</td>\n",
       "      <td>...</td>\n",
       "      <td>Mobility - Metered Taxis - R2000</td>\n",
       "      <td>Own damage</td>\n",
       "      <td>Own Damage</td>\n",
       "      <td>Comprehensive - Taxi</td>\n",
       "      <td>Motor Comprehensive</td>\n",
       "      <td>Mobility Metered Taxis: Monthly</td>\n",
       "      <td>Commercial</td>\n",
       "      <td>IFRS Constant</td>\n",
       "      <td>512.848070</td>\n",
       "      <td>0.0</td>\n",
       "    </tr>\n",
       "    <tr>\n",
       "      <th>4</th>\n",
       "      <td>145255</td>\n",
       "      <td>12827</td>\n",
       "      <td>2015-07-01 00:00:00</td>\n",
       "      <td>True</td>\n",
       "      <td></td>\n",
       "      <td>Close Corporation</td>\n",
       "      <td>Mr</td>\n",
       "      <td>English</td>\n",
       "      <td>First National Bank</td>\n",
       "      <td>Current account</td>\n",
       "      <td>...</td>\n",
       "      <td>Mobility - Metered Taxis - R2000</td>\n",
       "      <td>Own damage</td>\n",
       "      <td>Own Damage</td>\n",
       "      <td>Comprehensive - Taxi</td>\n",
       "      <td>Motor Comprehensive</td>\n",
       "      <td>Mobility Metered Taxis: Monthly</td>\n",
       "      <td>Commercial</td>\n",
       "      <td>IFRS Constant</td>\n",
       "      <td>0.000000</td>\n",
       "      <td>0.0</td>\n",
       "    </tr>\n",
       "  </tbody>\n",
       "</table>\n",
       "<p>5 rows × 52 columns</p>\n",
       "</div>"
      ],
      "text/plain": [
       "   UnderwrittenCoverID  PolicyID     TransactionMonth  IsVATRegistered  \\\n",
       "0               145249     12827  2015-03-01 00:00:00             True   \n",
       "1               145249     12827  2015-05-01 00:00:00             True   \n",
       "2               145249     12827  2015-07-01 00:00:00             True   \n",
       "3               145255     12827  2015-05-01 00:00:00             True   \n",
       "4               145255     12827  2015-07-01 00:00:00             True   \n",
       "\n",
       "  Citizenship          LegalType Title Language                 Bank  \\\n",
       "0              Close Corporation    Mr  English  First National Bank   \n",
       "1              Close Corporation    Mr  English  First National Bank   \n",
       "2              Close Corporation    Mr  English  First National Bank   \n",
       "3              Close Corporation    Mr  English  First National Bank   \n",
       "4              Close Corporation    Mr  English  First National Bank   \n",
       "\n",
       "       AccountType  ...                    ExcessSelected CoverCategory  \\\n",
       "0  Current account  ...             Mobility - Windscreen    Windscreen   \n",
       "1  Current account  ...             Mobility - Windscreen    Windscreen   \n",
       "2  Current account  ...             Mobility - Windscreen    Windscreen   \n",
       "3  Current account  ...  Mobility - Metered Taxis - R2000    Own damage   \n",
       "4  Current account  ...  Mobility - Metered Taxis - R2000    Own damage   \n",
       "\n",
       "    CoverType            CoverGroup              Section  \\\n",
       "0  Windscreen  Comprehensive - Taxi  Motor Comprehensive   \n",
       "1  Windscreen  Comprehensive - Taxi  Motor Comprehensive   \n",
       "2  Windscreen  Comprehensive - Taxi  Motor Comprehensive   \n",
       "3  Own Damage  Comprehensive - Taxi  Motor Comprehensive   \n",
       "4  Own Damage  Comprehensive - Taxi  Motor Comprehensive   \n",
       "\n",
       "                           Product StatutoryClass StatutoryRiskType  \\\n",
       "0  Mobility Metered Taxis: Monthly     Commercial     IFRS Constant   \n",
       "1  Mobility Metered Taxis: Monthly     Commercial     IFRS Constant   \n",
       "2  Mobility Metered Taxis: Monthly     Commercial     IFRS Constant   \n",
       "3  Mobility Metered Taxis: Monthly     Commercial     IFRS Constant   \n",
       "4  Mobility Metered Taxis: Monthly     Commercial     IFRS Constant   \n",
       "\n",
       "   TotalPremium TotalClaims  \n",
       "0     21.929825         0.0  \n",
       "1     21.929825         0.0  \n",
       "2      0.000000         0.0  \n",
       "3    512.848070         0.0  \n",
       "4      0.000000         0.0  \n",
       "\n",
       "[5 rows x 52 columns]"
      ]
     },
     "execution_count": 2,
     "metadata": {},
     "output_type": "execute_result"
    }
   ],
   "source": [
    "# Example usage:\n",
    "text_file_path = \"../Data/MachineLearningRating_v3.txt\"  # Replace with the actual path to your text file\n",
    "processor = InsuranceDataProcessor(text_file_path)\n",
    "processor.save_to_csv() \n",
    "df = pd.read_csv('../Data/insurance_text_data.csv')\n",
    "\n",
    "# Display the first few rows of the DataFrame\n",
    "df.head() "
   ]
  },
  {
   "cell_type": "code",
   "execution_count": 4,
   "metadata": {},
   "outputs": [
    {
     "name": "stdout",
     "output_type": "stream",
     "text": [
      "['UnderwrittenCoverID', 'PolicyID', 'TransactionMonth', 'IsVATRegistered', 'Citizenship', 'LegalType', 'Title', 'Language', 'Bank', 'AccountType', 'MaritalStatus', 'Gender', 'Country', 'Province', 'PostalCode', 'MainCrestaZone', 'SubCrestaZone', 'ItemType', 'mmcode', 'VehicleType', 'RegistrationYear', 'make', 'Model', 'Cylinders', 'cubiccapacity', 'kilowatts', 'bodytype', 'NumberOfDoors', 'VehicleIntroDate', 'CustomValueEstimate', 'AlarmImmobiliser', 'TrackingDevice', 'CapitalOutstanding', 'NewVehicle', 'WrittenOff', 'Rebuilt', 'Converted', 'CrossBorder', 'NumberOfVehiclesInFleet', 'SumInsured', 'TermFrequency', 'CalculatedPremiumPerTerm', 'ExcessSelected', 'CoverCategory', 'CoverType', 'CoverGroup', 'Section', 'Product', 'StatutoryClass', 'StatutoryRiskType', 'TotalPremium', 'TotalClaims']\n"
     ]
    }
   ],
   "source": [
    "print(df.columns.tolist())"
   ]
  },
  {
   "cell_type": "markdown",
   "metadata": {},
   "source": [
    "EDA Analysis:\n",
    "---\n",
    "1. Data Summarization:\n",
    "■\tDescriptive Statistics: Calculate the variability for numerical features such as TotalPremium, TotalClaim, etc.\n",
    "■\tData Structure: Review the dtype of each column to confirm if categorical variables, dates, etc. are properly formatted.\n",
    "2. Data Quality Assessment:\n",
    "■\tCheck for missing values.\n",
    "3. Univariate Analysis:\n",
    "■\tDistribution of Variables: Plot histograms for numerical columns and bar charts for categorical columns to understand distributions..\n",
    "4. Bivariate or Multivariate Analysis:\n",
    "■\tCorrelations and Associations: Explore relationships between the monthly changes TotalPremium and TotalClaims as a function of ZipCode, using scatter plots and correlation matrices.\n",
    "5. Data Comparison\n",
    "■\tTrends Over Geography: Compare the change in insurance cover type, premium, auto make, etc. \n",
    "6. Outlier Detection:\n",
    "■\tUse box plots to detect outliers in numerical data\n",
    "7. Visualization\n",
    "■\tProduce 3 creative and beautiful plots that capture the key insight you gained from your EDA"
   ]
  },
  {
   "cell_type": "markdown",
   "metadata": {},
   "source": []
  },
  {
   "cell_type": "code",
   "execution_count": 5,
   "metadata": {},
   "outputs": [
    {
     "name": "stderr",
     "output_type": "stream",
     "text": [
      "d:\\10 ACADAMY KIFIYA\\Week-3\\Insurance\\Week3\\scripts\\EDA_Analysis.py:12: DtypeWarning: Columns (32,37) have mixed types. Specify dtype option on import or set low_memory=False.\n",
      "  self.data = pd.read_csv(file_path)\n"
     ]
    }
   ],
   "source": [
    "from EDA_Analysis import InsuranceEDA\n",
    "data_path= ('../Data/insurance_text_data.csv')\n",
    "insurance_eda = InsuranceEDA(data_path)\n"
   ]
  },
  {
   "cell_type": "code",
   "execution_count": 6,
   "metadata": {},
   "outputs": [
    {
     "name": "stdout",
     "output_type": "stream",
     "text": [
      "Data Structure:\n",
      "UnderwrittenCoverID           int64\n",
      "PolicyID                      int64\n",
      "TransactionMonth             object\n",
      "IsVATRegistered                bool\n",
      "Citizenship                  object\n",
      "LegalType                    object\n",
      "Title                        object\n",
      "Language                     object\n",
      "Bank                         object\n",
      "AccountType                  object\n",
      "MaritalStatus                object\n",
      "Gender                       object\n",
      "Country                      object\n",
      "Province                     object\n",
      "PostalCode                    int64\n",
      "MainCrestaZone               object\n",
      "SubCrestaZone                object\n",
      "ItemType                     object\n",
      "mmcode                      float64\n",
      "VehicleType                  object\n",
      "RegistrationYear              int64\n",
      "make                         object\n",
      "Model                        object\n",
      "Cylinders                   float64\n",
      "cubiccapacity               float64\n",
      "kilowatts                   float64\n",
      "bodytype                     object\n",
      "NumberOfDoors               float64\n",
      "VehicleIntroDate             object\n",
      "CustomValueEstimate         float64\n",
      "AlarmImmobiliser             object\n",
      "TrackingDevice               object\n",
      "CapitalOutstanding           object\n",
      "NewVehicle                   object\n",
      "WrittenOff                   object\n",
      "Rebuilt                      object\n",
      "Converted                    object\n",
      "CrossBorder                  object\n",
      "NumberOfVehiclesInFleet     float64\n",
      "SumInsured                  float64\n",
      "TermFrequency                object\n",
      "CalculatedPremiumPerTerm    float64\n",
      "ExcessSelected               object\n",
      "CoverCategory                object\n",
      "CoverType                    object\n",
      "CoverGroup                   object\n",
      "Section                      object\n",
      "Product                      object\n",
      "StatutoryClass               object\n",
      "StatutoryRiskType            object\n",
      "TotalPremium                float64\n",
      "TotalClaims                 float64\n",
      "dtype: object\n"
     ]
    }
   ],
   "source": [
    "insurance_eda.data_structure()\n"
   ]
  },
  {
   "cell_type": "markdown",
   "metadata": {},
   "source": [
    "Overall, some variables such as dates and categorical fields might require reformatting to ensure accurate data analysis and optimization of storage."
   ]
  },
  {
   "cell_type": "code",
   "execution_count": 7,
   "metadata": {},
   "outputs": [
    {
     "name": "stdout",
     "output_type": "stream",
     "text": [
      "Descriptive Statistics:\n",
      "       UnderwrittenCoverID      PolicyID    PostalCode        mmcode  \\\n",
      "count         1.000098e+06  1.000098e+06  1.000098e+06  9.995460e+05   \n",
      "mean          1.048175e+05  7.956682e+03  3.020601e+03  5.487770e+07   \n",
      "std           6.329371e+04  5.290039e+03  2.649854e+03  1.360381e+07   \n",
      "min           1.000000e+00  1.400000e+01  1.000000e+00  4.041200e+06   \n",
      "25%           5.514300e+04  4.500000e+03  8.270000e+02  6.005692e+07   \n",
      "50%           9.408300e+04  7.071000e+03  2.000000e+03  6.005842e+07   \n",
      "75%           1.391900e+05  1.107700e+04  4.180000e+03  6.005842e+07   \n",
      "max           3.011750e+05  2.324600e+04  9.870000e+03  6.506535e+07   \n",
      "\n",
      "       RegistrationYear      Cylinders  cubiccapacity      kilowatts  \\\n",
      "count      1.000098e+06  999546.000000  999546.000000  999546.000000   \n",
      "mean       2.010225e+03       4.046642    2466.743258      97.207919   \n",
      "std        3.261391e+00       0.294020     442.800640      19.393256   \n",
      "min        1.987000e+03       0.000000       0.000000       0.000000   \n",
      "25%        2.008000e+03       4.000000    2237.000000      75.000000   \n",
      "50%        2.011000e+03       4.000000    2694.000000     111.000000   \n",
      "75%        2.013000e+03       4.000000    2694.000000     111.000000   \n",
      "max        2.015000e+03      10.000000   12880.000000     309.000000   \n",
      "\n",
      "       NumberOfDoors  CustomValueEstimate  NumberOfVehiclesInFleet  \\\n",
      "count  999546.000000         2.204560e+05                      0.0   \n",
      "mean        4.019250         2.255311e+05                      NaN   \n",
      "std         0.468314         5.645157e+05                      NaN   \n",
      "min         0.000000         2.000000e+04                      NaN   \n",
      "25%         4.000000         1.350000e+05                      NaN   \n",
      "50%         4.000000         2.200000e+05                      NaN   \n",
      "75%         4.000000         2.800000e+05                      NaN   \n",
      "max         6.000000         2.655000e+07                      NaN   \n",
      "\n",
      "         SumInsured  CalculatedPremiumPerTerm  TotalPremium   TotalClaims  \n",
      "count  1.000098e+06              1.000098e+06  1.000098e+06  1.000098e+06  \n",
      "mean   6.041727e+05              1.178757e+02  6.190550e+01  6.486119e+01  \n",
      "std    1.508332e+06              3.997017e+02  2.302845e+02  2.384075e+03  \n",
      "min    1.000000e-02              0.000000e+00 -7.825768e+02 -1.200241e+04  \n",
      "25%    5.000000e+03              3.224800e+00  0.000000e+00  0.000000e+00  \n",
      "50%    7.500000e+03              8.436900e+00  2.178333e+00  0.000000e+00  \n",
      "75%    2.500000e+05              9.000000e+01  2.192982e+01  0.000000e+00  \n",
      "max    1.263620e+07              7.442217e+04  6.528260e+04  3.930921e+05  \n"
     ]
    }
   ],
   "source": [
    "insurance_eda.descriptive_statistics()"
   ]
  },
  {
   "cell_type": "markdown",
   "metadata": {},
   "source": [
    "Overall, these statistics suggest that there are extreme outliers and potentially skewed distributions in these financial variables, which might need further investigation or preprocessing in any predictive models."
   ]
  },
  {
   "cell_type": "code",
   "execution_count": 8,
   "metadata": {},
   "outputs": [
    {
     "name": "stdout",
     "output_type": "stream",
     "text": [
      "Missing Values Before Filling:\n",
      "UnderwrittenCoverID               0\n",
      "PolicyID                          0\n",
      "TransactionMonth                  0\n",
      "IsVATRegistered                   0\n",
      "Citizenship                       0\n",
      "LegalType                         0\n",
      "Title                             0\n",
      "Language                          0\n",
      "Bank                         145961\n",
      "AccountType                   40232\n",
      "MaritalStatus                  8259\n",
      "Gender                         9536\n",
      "Country                           0\n",
      "Province                          0\n",
      "PostalCode                        0\n",
      "MainCrestaZone                    0\n",
      "SubCrestaZone                     0\n",
      "ItemType                          0\n",
      "mmcode                          552\n",
      "VehicleType                     552\n",
      "RegistrationYear                  0\n",
      "make                            552\n",
      "Model                           552\n",
      "Cylinders                       552\n",
      "cubiccapacity                   552\n",
      "kilowatts                       552\n",
      "bodytype                        552\n",
      "NumberOfDoors                   552\n",
      "VehicleIntroDate                552\n",
      "CustomValueEstimate          779642\n",
      "AlarmImmobiliser                  0\n",
      "TrackingDevice                    0\n",
      "CapitalOutstanding                2\n",
      "NewVehicle                   153295\n",
      "WrittenOff                   641901\n",
      "Rebuilt                      641901\n",
      "Converted                    641901\n",
      "CrossBorder                  999400\n",
      "NumberOfVehiclesInFleet     1000098\n",
      "SumInsured                        0\n",
      "TermFrequency                     0\n",
      "CalculatedPremiumPerTerm          0\n",
      "ExcessSelected                    0\n",
      "CoverCategory                     0\n",
      "CoverType                         0\n",
      "CoverGroup                        0\n",
      "Section                           0\n",
      "Product                           0\n",
      "StatutoryClass                    0\n",
      "StatutoryRiskType                 0\n",
      "TotalPremium                      0\n",
      "TotalClaims                       0\n",
      "dtype: int64\n",
      "Missing Values Before Filling:\n",
      "UnderwrittenCoverID               0\n",
      "PolicyID                          0\n",
      "TransactionMonth                  0\n",
      "IsVATRegistered                   0\n",
      "Citizenship                       0\n",
      "LegalType                         0\n",
      "Title                             0\n",
      "Language                          0\n",
      "Bank                         145961\n",
      "AccountType                   40232\n",
      "MaritalStatus                  8259\n",
      "Gender                         9536\n",
      "Country                           0\n",
      "Province                          0\n",
      "PostalCode                        0\n",
      "MainCrestaZone                    0\n",
      "SubCrestaZone                     0\n",
      "ItemType                          0\n",
      "mmcode                          552\n",
      "VehicleType                     552\n",
      "RegistrationYear                  0\n",
      "make                            552\n",
      "Model                           552\n",
      "Cylinders                       552\n",
      "cubiccapacity                   552\n",
      "kilowatts                       552\n",
      "bodytype                        552\n",
      "NumberOfDoors                   552\n",
      "VehicleIntroDate                552\n",
      "CustomValueEstimate          779642\n",
      "AlarmImmobiliser                  0\n",
      "TrackingDevice                    0\n",
      "CapitalOutstanding                2\n",
      "NewVehicle                   153295\n",
      "WrittenOff                   641901\n",
      "Rebuilt                      641901\n",
      "Converted                    641901\n",
      "CrossBorder                  999400\n",
      "NumberOfVehiclesInFleet     1000098\n",
      "SumInsured                        0\n",
      "TermFrequency                     0\n",
      "CalculatedPremiumPerTerm          0\n",
      "ExcessSelected                    0\n",
      "CoverCategory                     0\n",
      "CoverType                         0\n",
      "CoverGroup                        0\n",
      "Section                           0\n",
      "Product                           0\n",
      "StatutoryClass                    0\n",
      "StatutoryRiskType                 0\n",
      "TotalPremium                      0\n",
      "TotalClaims                       0\n",
      "dtype: int64\n"
     ]
    }
   ],
   "source": [
    "missing_before = insurance_eda.check_missing_values()\n",
    "print(\"Missing Values Before Filling:\")\n",
    "print(missing_before)"
   ]
  },
  {
   "cell_type": "code",
   "execution_count": 9,
   "metadata": {},
   "outputs": [
    {
     "name": "stdout",
     "output_type": "stream",
     "text": [
      "Updated data with filled missing values saved to ../Data\\updated_data.csv\n"
     ]
    }
   ],
   "source": [
    "insurance_eda.fill_missing_values()"
   ]
  },
  {
   "cell_type": "code",
   "execution_count": 10,
   "metadata": {},
   "outputs": [
    {
     "name": "stdout",
     "output_type": "stream",
     "text": [
      "Checking Missing Values in Updated CSV:\n"
     ]
    },
    {
     "name": "stderr",
     "output_type": "stream",
     "text": [
      "d:\\10 ACADAMY KIFIYA\\Week-3\\Insurance\\Week3\\scripts\\EDA_Analysis.py:59: DtypeWarning: Columns (32) have mixed types. Specify dtype option on import or set low_memory=False.\n",
      "  updated_data = pd.read_csv(self.updated_file_path)\n"
     ]
    },
    {
     "name": "stdout",
     "output_type": "stream",
     "text": [
      "UnderwrittenCoverID               0\n",
      "PolicyID                          0\n",
      "TransactionMonth                  0\n",
      "IsVATRegistered                   0\n",
      "Citizenship                       0\n",
      "LegalType                         0\n",
      "Title                             0\n",
      "Language                          0\n",
      "Bank                              0\n",
      "AccountType                       0\n",
      "MaritalStatus                     0\n",
      "Gender                            0\n",
      "Country                           0\n",
      "Province                          0\n",
      "PostalCode                        0\n",
      "MainCrestaZone                    0\n",
      "SubCrestaZone                     0\n",
      "ItemType                          0\n",
      "mmcode                            0\n",
      "VehicleType                       0\n",
      "RegistrationYear                  0\n",
      "make                              0\n",
      "Model                             0\n",
      "Cylinders                         0\n",
      "cubiccapacity                     0\n",
      "kilowatts                         0\n",
      "bodytype                          0\n",
      "NumberOfDoors                     0\n",
      "VehicleIntroDate                  0\n",
      "CustomValueEstimate               0\n",
      "AlarmImmobiliser                  0\n",
      "TrackingDevice                    0\n",
      "CapitalOutstanding                0\n",
      "NewVehicle                        0\n",
      "WrittenOff                        0\n",
      "Rebuilt                           0\n",
      "Converted                         0\n",
      "CrossBorder                       0\n",
      "NumberOfVehiclesInFleet     1000098\n",
      "SumInsured                        0\n",
      "TermFrequency                     0\n",
      "CalculatedPremiumPerTerm          0\n",
      "ExcessSelected                    0\n",
      "CoverCategory                     0\n",
      "CoverType                         0\n",
      "CoverGroup                        0\n",
      "Section                           0\n",
      "Product                           0\n",
      "StatutoryClass                    0\n",
      "StatutoryRiskType                 0\n",
      "TotalPremium                      0\n",
      "TotalClaims                       0\n",
      "dtype: int64\n"
     ]
    },
    {
     "data": {
      "text/plain": [
       "UnderwrittenCoverID               0\n",
       "PolicyID                          0\n",
       "TransactionMonth                  0\n",
       "IsVATRegistered                   0\n",
       "Citizenship                       0\n",
       "LegalType                         0\n",
       "Title                             0\n",
       "Language                          0\n",
       "Bank                              0\n",
       "AccountType                       0\n",
       "MaritalStatus                     0\n",
       "Gender                            0\n",
       "Country                           0\n",
       "Province                          0\n",
       "PostalCode                        0\n",
       "MainCrestaZone                    0\n",
       "SubCrestaZone                     0\n",
       "ItemType                          0\n",
       "mmcode                            0\n",
       "VehicleType                       0\n",
       "RegistrationYear                  0\n",
       "make                              0\n",
       "Model                             0\n",
       "Cylinders                         0\n",
       "cubiccapacity                     0\n",
       "kilowatts                         0\n",
       "bodytype                          0\n",
       "NumberOfDoors                     0\n",
       "VehicleIntroDate                  0\n",
       "CustomValueEstimate               0\n",
       "AlarmImmobiliser                  0\n",
       "TrackingDevice                    0\n",
       "CapitalOutstanding                0\n",
       "NewVehicle                        0\n",
       "WrittenOff                        0\n",
       "Rebuilt                           0\n",
       "Converted                         0\n",
       "CrossBorder                       0\n",
       "NumberOfVehiclesInFleet     1000098\n",
       "SumInsured                        0\n",
       "TermFrequency                     0\n",
       "CalculatedPremiumPerTerm          0\n",
       "ExcessSelected                    0\n",
       "CoverCategory                     0\n",
       "CoverType                         0\n",
       "CoverGroup                        0\n",
       "Section                           0\n",
       "Product                           0\n",
       "StatutoryClass                    0\n",
       "StatutoryRiskType                 0\n",
       "TotalPremium                      0\n",
       "TotalClaims                       0\n",
       "dtype: int64"
      ]
     },
     "execution_count": 10,
     "metadata": {},
     "output_type": "execute_result"
    }
   ],
   "source": [
    "insurance_eda.check_missing_values_after_fill()\n"
   ]
  },
  {
   "cell_type": "code",
   "execution_count": 11,
   "metadata": {},
   "outputs": [
    {
     "name": "stdout",
     "output_type": "stream",
     "text": [
      "Univariate Analysis:\n",
      "Saved histogram of TotalPremium as ../Images\\TotalPremium_distribution.png\n",
      "Saved histogram of TotalClaims as ../Images\\TotalClaims_distribution.png\n",
      "Saved histogram of SumInsured as ../Images\\SumInsured_distribution.png\n",
      "Saved histogram of CalculatedPremiumPerTerm as ../Images\\CalculatedPremiumPerTerm_distribution.png\n",
      "Saved bar chart of TransactionMonth as ../Images\\TransactionMonth_distribution.png\n",
      "Saved bar chart of Citizenship as ../Images\\Citizenship_distribution.png\n",
      "Saved bar chart of LegalType as ../Images\\LegalType_distribution.png\n",
      "Saved bar chart of Title as ../Images\\Title_distribution.png\n",
      "Saved bar chart of Language as ../Images\\Language_distribution.png\n",
      "Saved bar chart of Bank as ../Images\\Bank_distribution.png\n",
      "Saved bar chart of AccountType as ../Images\\AccountType_distribution.png\n",
      "Saved bar chart of MaritalStatus as ../Images\\MaritalStatus_distribution.png\n",
      "Saved bar chart of Gender as ../Images\\Gender_distribution.png\n",
      "Saved bar chart of Country as ../Images\\Country_distribution.png\n",
      "Saved bar chart of Province as ../Images\\Province_distribution.png\n",
      "Saved bar chart of MainCrestaZone as ../Images\\MainCrestaZone_distribution.png\n",
      "Saved bar chart of SubCrestaZone as ../Images\\SubCrestaZone_distribution.png\n",
      "Saved bar chart of ItemType as ../Images\\ItemType_distribution.png\n",
      "Saved bar chart of VehicleType as ../Images\\VehicleType_distribution.png\n",
      "Saved bar chart of make as ../Images\\make_distribution.png\n",
      "Saved bar chart of Model as ../Images\\Model_distribution.png\n",
      "Saved bar chart of bodytype as ../Images\\bodytype_distribution.png\n",
      "Saved bar chart of VehicleIntroDate as ../Images\\VehicleIntroDate_distribution.png\n",
      "Saved bar chart of AlarmImmobiliser as ../Images\\AlarmImmobiliser_distribution.png\n",
      "Saved bar chart of TrackingDevice as ../Images\\TrackingDevice_distribution.png\n",
      "Saved bar chart of CapitalOutstanding as ../Images\\CapitalOutstanding_distribution.png\n",
      "Saved bar chart of NewVehicle as ../Images\\NewVehicle_distribution.png\n",
      "Saved bar chart of WrittenOff as ../Images\\WrittenOff_distribution.png\n",
      "Saved bar chart of Rebuilt as ../Images\\Rebuilt_distribution.png\n",
      "Saved bar chart of Converted as ../Images\\Converted_distribution.png\n",
      "Saved bar chart of CrossBorder as ../Images\\CrossBorder_distribution.png\n",
      "Saved bar chart of TermFrequency as ../Images\\TermFrequency_distribution.png\n",
      "Saved bar chart of ExcessSelected as ../Images\\ExcessSelected_distribution.png\n",
      "Saved bar chart of CoverCategory as ../Images\\CoverCategory_distribution.png\n",
      "Saved bar chart of CoverType as ../Images\\CoverType_distribution.png\n",
      "Saved bar chart of CoverGroup as ../Images\\CoverGroup_distribution.png\n",
      "Saved bar chart of Section as ../Images\\Section_distribution.png\n",
      "Saved bar chart of Product as ../Images\\Product_distribution.png\n",
      "Saved bar chart of StatutoryClass as ../Images\\StatutoryClass_distribution.png\n",
      "Saved bar chart of StatutoryRiskType as ../Images\\StatutoryRiskType_distribution.png\n"
     ]
    }
   ],
   "source": [
    "insurance_eda.univariate_analysis()"
   ]
  },
  {
   "cell_type": "code",
   "execution_count": 12,
   "metadata": {},
   "outputs": [
    {
     "name": "stdout",
     "output_type": "stream",
     "text": [
      "Bivariate Analysis:\n"
     ]
    },
    {
     "name": "stderr",
     "output_type": "stream",
     "text": [
      "d:\\10 ACADAMY KIFIYA\\Week-3\\Insurance\\Week3\\scripts\\EDA_Analysis.py:120: FutureWarning: 'M' is deprecated and will be removed in a future version, please use 'ME' instead.\n",
      "  monthly_data = self.data.resample('M').agg({\n"
     ]
    },
    {
     "name": "stdout",
     "output_type": "stream",
     "text": [
      "\n",
      "Correlation Matrix of Monthly Changes:\n",
      "                             TotalPremium_Monthly_Change  \\\n",
      "TotalPremium_Monthly_Change                     1.000000   \n",
      "TotalClaims_Monthly_Change                      0.053804   \n",
      "\n",
      "                             TotalClaims_Monthly_Change  \n",
      "TotalPremium_Monthly_Change                    0.053804  \n",
      "TotalClaims_Monthly_Change                     1.000000  \n",
      "Saved scatter plot of monthly changes as ../Images\\premium_vs_claims_scatter.png\n"
     ]
    }
   ],
   "source": [
    "insurance_eda.bivariate_analysis()"
   ]
  },
  {
   "cell_type": "code",
   "execution_count": 13,
   "metadata": {},
   "outputs": [
    {
     "name": "stdout",
     "output_type": "stream",
     "text": [
      "Duplicate index labels detected. Resetting index.\n",
      "Columns with high number of outliers: ['mmcode', 'cubiccapacity', 'NumberOfDoors', 'CustomValueEstimate', 'SumInsured', 'CalculatedPremiumPerTerm', 'TotalPremium']\n",
      "There are duplicate rows in the dataset, removing them.\n",
      "Saved boxplot for mmcode outliers to ../Images\\mmcode_outliers.png\n",
      "Saved boxplot for cubiccapacity outliers to ../Images\\cubiccapacity_outliers.png\n",
      "Saved boxplot for NumberOfDoors outliers to ../Images\\NumberOfDoors_outliers.png\n",
      "Saved boxplot for CustomValueEstimate outliers to ../Images\\CustomValueEstimate_outliers.png\n",
      "Saved boxplot for SumInsured outliers to ../Images\\SumInsured_outliers.png\n",
      "Saved boxplot for CalculatedPremiumPerTerm outliers to ../Images\\CalculatedPremiumPerTerm_outliers.png\n",
      "Saved boxplot for TotalPremium outliers to ../Images\\TotalPremium_outliers.png\n"
     ]
    },
    {
     "data": {
      "text/plain": [
       "['mmcode',\n",
       " 'cubiccapacity',\n",
       " 'NumberOfDoors',\n",
       " 'CustomValueEstimate',\n",
       " 'SumInsured',\n",
       " 'CalculatedPremiumPerTerm',\n",
       " 'TotalPremium']"
      ]
     },
     "execution_count": 13,
     "metadata": {},
     "output_type": "execute_result"
    }
   ],
   "source": [
    "insurance_eda.outlier_detection()"
   ]
  },
  {
   "cell_type": "code",
   "execution_count": 14,
   "metadata": {},
   "outputs": [
    {
     "name": "stdout",
     "output_type": "stream",
     "text": [
      "Removed outliers from mmcode.\n",
      "Removed outliers from cubiccapacity.\n",
      "Removed outliers from NumberOfDoors.\n",
      "Removed outliers from CustomValueEstimate.\n",
      "Removed outliers from SumInsured.\n",
      "Removed outliers from CalculatedPremiumPerTerm.\n",
      "Removed outliers from TotalPremium.\n",
      "Saved boxplot for mmcode with outliers removed to ../Images\\mmcode_outliers_removed.png\n",
      "Saved boxplot for cubiccapacity with outliers removed to ../Images\\cubiccapacity_outliers_removed.png\n",
      "Saved boxplot for NumberOfDoors with outliers removed to ../Images\\NumberOfDoors_outliers_removed.png\n",
      "Saved boxplot for CustomValueEstimate with outliers removed to ../Images\\CustomValueEstimate_outliers_removed.png\n",
      "Saved boxplot for SumInsured with outliers removed to ../Images\\SumInsured_outliers_removed.png\n",
      "Saved boxplot for CalculatedPremiumPerTerm with outliers removed to ../Images\\CalculatedPremiumPerTerm_outliers_removed.png\n",
      "Saved boxplot for TotalPremium with outliers removed to ../Images\\TotalPremium_outliers_removed.png\n"
     ]
    }
   ],
   "source": [
    "insurance_eda.handle_outliers(['mmcode', 'cubiccapacity', 'NumberOfDoors', 'CustomValueEstimate', 'SumInsured', 'CalculatedPremiumPerTerm', 'TotalPremium'])"
   ]
  },
  {
   "cell_type": "code",
   "execution_count": 15,
   "metadata": {},
   "outputs": [
    {
     "name": "stdout",
     "output_type": "stream",
     "text": [
      "Columns with high number of outliers: ['mmcode', 'SumInsured', 'CalculatedPremiumPerTerm', 'TotalPremium']\n",
      "Saved boxplot for mmcode outliers to ../Images\\mmcode_outliers.png\n",
      "Saved boxplot for SumInsured outliers to ../Images\\SumInsured_outliers.png\n",
      "Saved boxplot for CalculatedPremiumPerTerm outliers to ../Images\\CalculatedPremiumPerTerm_outliers.png\n",
      "Saved boxplot for TotalPremium outliers to ../Images\\TotalPremium_outliers.png\n",
      "Removed outliers from mmcode.\n",
      "Removed outliers from cubiccapacity.\n",
      "Saved boxplot for mmcode with outliers removed to ../Images\\mmcode_outliers_removed.png\n",
      "Saved boxplot for cubiccapacity with outliers removed to ../Images\\cubiccapacity_outliers_removed.png\n"
     ]
    },
    {
     "data": {
      "image/png": "[encoded data removed]",
      "text/plain": [
       "<Figure size 1400x1000 with 4 Axes>"
      ]
     },
     "metadata": {},
     "output_type": "display_data"
    },
    {
     "name": "stdout",
     "output_type": "stream",
     "text": [
      "Saved comparison subplots to ../Images\\mmcode_cubiccapacity_comparison.png\n"
     ]
    }
   ],
   "source": [
    "insurance_eda.plot_comparison_subplots()"
   ]
  },
  {
   "cell_type": "code",
   "execution_count": 16,
   "metadata": {},
   "outputs": [
    {
     "name": "stdout",
     "output_type": "stream",
     "text": [
      "Geographical Distribution Plot:\n",
      "Saved geographical distribution plot as ../Images\\geographical_distribution.png\n"
     ]
    },
    {
     "data": {
      "text/plain": [
       "<Figure size 1200x800 with 0 Axes>"
      ]
     },
     "metadata": {},
     "output_type": "display_data"
    }
   ],
   "source": [
    "insurance_eda.geographical_distribution()\n"
   ]
  },
  {
   "cell_type": "code",
   "execution_count": 21,
   "metadata": {},
   "outputs": [
    {
     "name": "stdout",
     "output_type": "stream",
     "text": [
      "Premium vs Claims Plot:\n",
      "Saved Premium vs Claims scatter plot as ../Images\\premium_vs_claims_scatter.png\n"
     ]
    }
   ],
   "source": [
    "insurance_eda.premium_vs_claims()"
   ]
  },
  {
   "cell_type": "code",
   "execution_count": 18,
   "metadata": {},
   "outputs": [],
   "source": [
    "import plotly.graph_objects as go\n",
    "#insurance_eda.plot_premiums_and_claims_by_province()"
   ]
  },
  {
   "cell_type": "code",
   "execution_count": 19,
   "metadata": {},
   "outputs": [],
   "source": [
    "#insurance_eda.plot_premium_vs_claims()"
   ]
  },
  {
   "cell_type": "code",
   "execution_count": 20,
   "metadata": {},
   "outputs": [],
   "source": [
    "#insurance_eda.plot_monthly_changes()"
   ]
  },
  {
   "cell_type": "markdown",
   "metadata": {},
   "source": [
    "A/B hypothesis Testing\n",
    "---\n",
    "Based on the p-values from these tests:\n",
    "\n",
    "If the p-value is less than 0.05, reject the null hypothesis (indicating a significant difference).\n",
    "If the p-value is 0.05 or greater, fail to reject the null hypothesis (indicating no significant difference)."
   ]
  },
  {
   "cell_type": "code",
   "execution_count": null,
   "metadata": {},
   "outputs": [],
   "source": [
    "# Step 3: Create an instance of the class\n",
    "file_path = '../Data/updated.csv'  # Replace with the actual file path\n",
    "analyzer = InsuranceDataAnalyzer(file_path)\n",
    "\n",
    "# Step 4: Call the class methods to perform the statistical tests\n",
    "\n",
    "# Test for risk differences across provinces\n",
    "analyzer.test_risk_differences_across_provinces()\n",
    "\n",
    "# Test for risk differences between zip codes\n",
    "analyzer.test_risk_differences_between_zip_codes()\n",
    "\n",
    "# Test for margin differences between zip codes\n",
    "analyzer.test_margin_differences_between_zip_codes()\n",
    "\n",
    "# Test for risk differences between women and men\n",
    "analyzer.test_risk_differences_between_women_and_men()"
   ]
  }
 ],
 "metadata": {
  "kernelspec": {
   "display_name": "Python 3",
   "language": "python",
   "name": "python3"
  },
  "language_info": {
   "codemirror_mode": {
    "name": "ipython",
    "version": 3
   },
   "file_extension": ".py",
   "mimetype": "text/x-python",
   "name": "python",
   "nbconvert_exporter": "python",
   "pygments_lexer": "ipython3",
   "version": "3.12.3"
  }
 },
 "nbformat": 4,
 "nbformat_minor": 2
}
